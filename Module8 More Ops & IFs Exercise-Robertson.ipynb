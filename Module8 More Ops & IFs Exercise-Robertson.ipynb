{
 "cells": [
  {
   "cell_type": "markdown",
   "metadata": {},
   "source": [
    "### Exercise 1\n",
    "Ask for an exam score and store that number. If the number is greater than 100, then print out 'You cannot have an exam score higher than 100'. If the number doesn't exceeed 100 but is greater than or equal to 75, then print out 'You did great on your exam!'. Otherwise if they scored lower than 75, then print out 'You need to study harder'."
   ]
  },
  {
   "cell_type": "code",
   "execution_count": 1,
   "metadata": {},
   "outputs": [
    {
     "name": "stdout",
     "output_type": "stream",
     "text": [
      "Please enter exam score 89\n",
      "You did great on your exam!\n"
     ]
    }
   ],
   "source": [
    "x= int(input(\"Please enter exam score \"))\n",
    "\n",
    "if x > 100 :\n",
    "    print(\"You can not have an exam score higher than 100 \")\n",
    "else:\n",
    "    if 75 <= x <=100 :\n",
    "        print (\"You did great on your exam!\")\n",
    "    else:\n",
    "        if x<=74 : \n",
    "            print(\"You need to study harder\")\n",
    "        \n",
    "        \n",
    "   \n",
    "\n",
    "    \n",
    "    "
   ]
  },
  {
   "cell_type": "markdown",
   "metadata": {},
   "source": [
    "### Exercise 2\n",
    "Ask a user to enter two numbers and find their average. Then, print out the average and whether each number is below or above average. Determine if a function should be created or not.\n",
    "    "
   ]
  },
  {
   "cell_type": "code",
   "execution_count": 2,
   "metadata": {},
   "outputs": [
    {
     "name": "stdout",
     "output_type": "stream",
     "text": [
      "Please enter a number 90\n",
      "Please enter a number 20\n",
      "your average is 55.0\n",
      "Your number 90 is above average\n",
      "Your number 20 is below average\n",
      "None None\n"
     ]
    }
   ],
   "source": [
    "num1= int(input(\"Please enter a number \"))\n",
    "num2= int(input(\"Please enter a number \"))\n",
    "\n",
    "avg= (num1 + num2)/2\n",
    "\n",
    "print(\"your average is\", avg)\n",
    "\n",
    "def average_score(num1, avg):\n",
    "    if num1 > avg :\n",
    "        print(f\"Your number {num1} is above average\")\n",
    "    if num1 < avg:\n",
    "        print(f\"Your number {num1} is below average\")\n",
    "        \n",
    "def average_score2 (num2, avg):\n",
    "    if num2 > avg:\n",
    "        print(f\"Your number {num2} is above average\")\n",
    "    if num2 < avg:\n",
    "        print(f\"Your number {num2} is below average\")\n",
    " \n",
    "\n",
    "print(average_score(num1, avg), average_score2(num2,avg))\n",
    "\n"
   ]
  },
  {
   "cell_type": "markdown",
   "metadata": {},
   "source": [
    "### Exercise 3\n",
    "Write a function to convert a test score to a grade where  \n",
    " - 90 - 100: A\n",
    " - 80 - 89:  B\n",
    " - 70 - 79:  C\n",
    " - 60 - 69:  D\n",
    " - < 60   :  F\n",
    " \n",
    "If a score is not between 0 and 100 then print out an error message. In the program, ask the user for a score and then call your function. "
   ]
  },
  {
   "cell_type": "code",
   "execution_count": 13,
   "metadata": {},
   "outputs": [
    {
     "name": "stdout",
     "output_type": "stream",
     "text": [
      "please enter score 60\n",
      "D\n"
     ]
    }
   ],
   "source": [
    "score = int(input(\"please enter score \"))\n",
    "\n",
    "def my_score(score):\n",
    "    \n",
    "    if score <=100:\n",
    "        if score >= 90:\n",
    "            grade =\"A\"\n",
    "        elif score<=89:\n",
    "            if score>=80: \n",
    "                grade= \"B\"\n",
    "            elif score <=79:\n",
    "                if score>=70:\n",
    "                    grade= \"C\"\n",
    "                elif score <=69:\n",
    "                    if score >=60:\n",
    "                        grade= \"D\"\n",
    "                    else:\n",
    "                        score <60\n",
    "                        grade=\"F\"\n",
    "        \n",
    "    return grade \n",
    "      \n",
    "\n",
    "print (my_score(score))\n"
   ]
  },
  {
   "cell_type": "markdown",
   "metadata": {},
   "source": [
    "### Exercise 4\n",
    "Convert following decimal number to a binary number by hand:\n",
    "\n",
    "    61\n",
    "    15\n",
    "    71\n",
    "    "
   ]
  },
  {
   "cell_type": "code",
   "execution_count": 68,
   "metadata": {},
   "outputs": [
    {
     "data": {
      "text/plain": [
       "'0b1111'"
      ]
     },
     "execution_count": 68,
     "metadata": {},
     "output_type": "execute_result"
    }
   ],
   "source": [
    "61//2 #floor division\n",
    "30//2\n",
    "15//2\n",
    "7//2\n",
    "3//2\n",
    "1//2\n",
    "0//2\n",
    "\n",
    "61%2 #1  #Mod Operator \n",
    "30%2 #0\n",
    "15%2 #1\n",
    "7%2 #1\n",
    "3%2 #1\n",
    "1%2 #1\n",
    "\n",
    "\n",
    "#ob111101 is the binary number of 61 \n",
    "\n",
    "71//2\n",
    "35//2\n",
    "17//2\n",
    "8//2\n",
    "4//2\n",
    "2//2\n",
    "1//2\n",
    "0//2\n",
    "\n",
    "71%2 #1\n",
    "35%2 #1\n",
    "17%2 #1\n",
    "8%2 #0\n",
    "4%2 #0\n",
    "2%2 #0\n",
    "1%2 #1\n",
    "\n",
    "#0b1000111 is the binary number of 71 \n",
    "\n",
    "15//2\n",
    "7//2\n",
    "3//2\n",
    "1//2\n",
    "0//2\n",
    "\n",
    "15%2 #1\n",
    "7%2 #1\n",
    "3%2 #1\n",
    "1%2 #1\n",
    "0%2 #0\n",
    "\n",
    "#ob1111 is the binary number of 15\n",
    "\n"
   ]
  },
  {
   "cell_type": "code",
   "execution_count": null,
   "metadata": {},
   "outputs": [],
   "source": [
    "#A --- ob111101 is the binary number of 61 \n",
    "#B --- ob1111 is the binary number of 15\n",
    "\n"
   ]
  },
  {
   "cell_type": "markdown",
   "metadata": {},
   "source": [
    "# Exercise 5\n",
    "When a = 61 and b = 15, what is the result of following bitwise opertion? Use inline comments to show your result in a binary number. Find your answer by hand.\n",
    "\n",
    "    a & b\n",
    "    a | b\n",
    "    a ^ b\n",
    "    a >> 2\n",
    "    "
   ]
  },
  {
   "cell_type": "code",
   "execution_count": 8,
   "metadata": {},
   "outputs": [
    {
     "ename": "TypeError",
     "evalue": "unsupported operand type(s) for >>: 'str' and 'int'",
     "output_type": "error",
     "traceback": [
      "\u001b[0;31m---------------------------------------------------------------------------\u001b[0m",
      "\u001b[0;31mTypeError\u001b[0m                                 Traceback (most recent call last)",
      "Cell \u001b[0;32mIn[8], line 23\u001b[0m\n\u001b[1;32m      1\u001b[0m \u001b[38;5;66;03m#a&b -- results bit 1 if both of the operand bits are 1, otherwise results bit0\u001b[39;00m\n\u001b[1;32m      2\u001b[0m \u001b[38;5;66;03m#111101 -- a\u001b[39;00m\n\u001b[1;32m      3\u001b[0m \u001b[38;5;66;03m#001111--b\u001b[39;00m\n\u001b[0;32m   (...)\u001b[0m\n\u001b[1;32m     20\u001b[0m \u001b[38;5;66;03m#111101\u001b[39;00m\n\u001b[1;32m     21\u001b[0m \u001b[38;5;66;03m#a^b 110111\u001b[39;00m\n\u001b[0;32m---> 23\u001b[0m \u001b[38;5;28mbin\u001b[39m(\u001b[38;5;241m61\u001b[39m) \u001b[38;5;241m>>\u001b[39m \u001b[38;5;241m2\u001b[39m\n",
      "\u001b[0;31mTypeError\u001b[0m: unsupported operand type(s) for >>: 'str' and 'int'"
     ]
    }
   ],
   "source": [
    "#a&b -- results bit 1 if both of the operand bits are 1, otherwise results bit0\n",
    "#111101 -- a\n",
    "#001111--b\n",
    "\n",
    "#a&b 001101\n",
    "\n",
    "\n",
    "\n",
    "\n",
    "#a|b \n",
    "#111101 --a\n",
    "#001111 --b\n",
    "\n",
    "#a|b 111111\n",
    "\n",
    "\n",
    "\n",
    "#a^b -- results bit 1 if any of the operand is 1 but if both are 1 then result is 0: x|b but if both are 1 then result 0\n",
    "#111101 -- a\n",
    "#001111 -- b\n",
    "\n",
    "# a^b110010\n",
    "\n",
    "\n",
    "\n",
    "#a >> 2 \n",
    "#111101\n",
    "#a^b 110111\n",
    "\n",
    "\n"
   ]
  },
  {
   "cell_type": "code",
   "execution_count": null,
   "metadata": {},
   "outputs": [],
   "source": []
  }
 ],
 "metadata": {
  "kernelspec": {
   "display_name": "Python 3 (ipykernel)",
   "language": "python",
   "name": "python3"
  },
  "language_info": {
   "codemirror_mode": {
    "name": "ipython",
    "version": 3
   },
   "file_extension": ".py",
   "mimetype": "text/x-python",
   "name": "python",
   "nbconvert_exporter": "python",
   "pygments_lexer": "ipython3",
   "version": "3.11.5"
  }
 },
 "nbformat": 4,
 "nbformat_minor": 4
}
